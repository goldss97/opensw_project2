{
  "nbformat": 4,
  "nbformat_minor": 0,
  "metadata": {
    "colab": {
      "provenance": [],
      "mount_file_id": "1j_7kpmfpgMgwpHtgKSfqvZ2QsrweUYBM",
      "authorship_tag": "ABX9TyPzdK8RN9SkdzmknRvaQ9T2",
      "include_colab_link": true
    },
    "kernelspec": {
      "name": "python3",
      "display_name": "Python 3"
    },
    "language_info": {
      "name": "python"
    }
  },
  "cells": [
    {
      "cell_type": "markdown",
      "metadata": {
        "id": "view-in-github",
        "colab_type": "text"
      },
      "source": [
        "<a href=\"https://colab.research.google.com/github/goldss97/opensw_project2/blob/main/opensw_proj2.ipynb\" target=\"_parent\"><img src=\"https://colab.research.google.com/assets/colab-badge.svg\" alt=\"Open In Colab\"/></a>"
      ]
    },
    {
      "cell_type": "code",
      "execution_count": 44,
      "metadata": {
        "colab": {
          "base_uri": "https://localhost:8080/"
        },
        "id": "G89meFEt5HeK",
        "outputId": "790e321e-8606-49b1-8a40-541fc72eb63d"
      },
      "outputs": [
        {
          "output_type": "stream",
          "name": "stdout",
          "text": [
            "Writing opensw_proj2.py\n"
          ]
        }
      ],
      "source": [
        "%%writefile opensw_proj2.py\n",
        "#PLEASE WRITE THE GITHUB URL BELOW!\n",
        "#\n",
        "import pandas as pd\n",
        "import sys\n",
        "from sklearn.model_selection import train_test_split\n",
        "from sklearn.tree import DecisionTreeClassifier\n",
        "from sklearn.svm import SVC\n",
        "from sklearn.pipeline import Pipeline\n",
        "from sklearn.pipeline import make_pipeline\n",
        "from sklearn.ensemble import RandomForestClassifier\n",
        "from sklearn.preprocessing import StandardScaler  \n",
        "from sklearn.metrics import accuracy_score\n",
        "from sklearn.metrics import precision_score\n",
        "from sklearn.metrics import recall_score\n",
        "\n",
        "def load_dataset(dataset_path):\n",
        "\treturn pd.read_csv(dataset_path)\n",
        "\n",
        "def dataset_stat(dataset_df):\n",
        "  result=dataset_df.groupby(\"target\").size()\n",
        "  return dataset_df.shape[1]-1,result[0],result[1]\n",
        "\n",
        "def split_dataset(dataset_df, testset_size):\n",
        "  \n",
        "  X = dataset_df.drop(columns=\"target\",axis=1)\n",
        "  y = dataset_df[\"target\"]\n",
        "  X_train,X_test,y_train,y_test = train_test_split(X,y,test_size=testset_size,random_state=2)\n",
        "  return X_train,X_test,y_train,y_test\n",
        "\n",
        "def decision_tree_train_test(x_train, x_test, y_train, y_test):\n",
        "  dt_cls=DecisionTreeClassifier()\n",
        "  dt_cls.fit(x_train,y_train)\n",
        "  return accuracy_score(y_test,dt_cls.predict(x_test)),precision_score(y_test,dt_cls.predict(x_test)),recall_score(y_test,dt_cls.predict(x_test))\n",
        "\n",
        "def random_forest_train_test(x_train, x_test, y_train, y_test):\n",
        "  rf_cls=RandomForestClassifier()\n",
        "  rf_cls.fit(x_train,y_train)\n",
        "  return accuracy_score(rf_cls.predict(x_test),y_test),precision_score(rf_cls.predict(x_test),y_test),recall_score(rf_cls.predict(x_test),y_test)\n",
        "\n",
        "def svm_train_test(x_train, x_test, y_train, y_test):\n",
        "  svm_pipe=make_pipeline(\n",
        "      StandardScaler(),\n",
        "      SVC()\n",
        "  )\n",
        "  svm_pipe.fit(x_train,y_train)\n",
        "  return accuracy_score(y_test,svm_pipe.predict(x_test)),precision_score(y_test,svm_pipe.predict(x_test)),recall_score(y_test,svm_pipe.predict(x_test))\n",
        "\n",
        "def print_performances(acc, prec, recall):\n",
        "\t#Do not modify this function!\n",
        "\tprint (\"Accuracy: \", acc)\n",
        "\tprint (\"Precision: \", prec)\n",
        "\tprint (\"Recall: \", recall)\n",
        "\n",
        "if __name__ == '__main__':\n",
        "\t#Do not modify the main script!\n",
        "\tdata_path = sys.argv[1]\n",
        "\tdata_df = load_dataset(data_path)\n",
        "\n",
        "\tn_feats, n_class0, n_class1 = dataset_stat(data_df)\n",
        "\tprint (\"Number of features: \", n_feats)\n",
        "\tprint (\"Number of class 0 data entries: \", n_class0)\n",
        "\tprint (\"Number of class 1 data entries: \", n_class1)\n",
        "\n",
        "\tprint (\"\\nSplitting the dataset with the test size of \", float(sys.argv[2]))\n",
        "\tx_train, x_test, y_train, y_test = split_dataset(data_df, float(sys.argv[2]))\n",
        "\n",
        "\tacc, prec, recall = decision_tree_train_test(x_train, x_test, y_train, y_test)\n",
        "\tprint (\"\\nDecision Tree Performances\")\n",
        "\tprint_performances(acc, prec, recall)\n",
        "\n",
        "\tacc, prec, recall = random_forest_train_test(x_train, x_test, y_train, y_test)\n",
        "\tprint (\"\\nRandom Forest Performances\")\n",
        "\tprint_performances(acc, prec, recall)\n",
        "\n",
        "\tacc, prec, recall = svm_train_test(x_train, x_test, y_train, y_test)\n",
        "\tprint (\"\\nSVM Performances\")\n",
        "\tprint_performances(acc, prec, recall)"
      ]
    },
    {
      "cell_type": "code",
      "source": [
        "%%python opensw_proj2.py /content/drive/MyDrive/opensw_project2/heart.csv 0.4\n",
        "\n"
      ],
      "metadata": {
        "colab": {
          "base_uri": "https://localhost:8080/"
        },
        "id": "0VtHsUcQ9MlN",
        "outputId": "ea06ba13-ed3e-4fe4-dcd4-99f62491dd1d"
      },
      "execution_count": 45,
      "outputs": [
        {
          "output_type": "stream",
          "name": "stdout",
          "text": [
            "Number of features:  13\n",
            "Number of class 0 data entries:  499\n",
            "Number of class 1 data entries:  526\n",
            "\n",
            "Splitting the dataset with the test size of  0.4\n",
            "\n",
            "Decision Tree Performances\n",
            "Accuracy:  0.9463414634146341\n",
            "Precision:  0.9619565217391305\n",
            "Recall:  0.921875\n",
            "\n",
            "Random Forest Performances\n",
            "Accuracy:  0.9609756097560975\n",
            "Precision:  0.953125\n",
            "Recall:  0.9631578947368421\n",
            "\n",
            "SVM Performances\n",
            "Accuracy:  0.9048780487804878\n",
            "Precision:  0.8963730569948186\n",
            "Recall:  0.9010416666666666\n"
          ]
        }
      ]
    }
  ]
}